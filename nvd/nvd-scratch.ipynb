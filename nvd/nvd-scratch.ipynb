{
 "cells": [
  {
   "cell_type": "code",
   "execution_count": 128,
   "metadata": {
    "collapsed": false
   },
   "outputs": [],
   "source": [
    "import json\n",
    "import re\n",
    "from functools import reduce\n",
    "from copy import deepcopy"
   ]
  },
  {
   "cell_type": "code",
   "execution_count": 2,
   "metadata": {
    "collapsed": false
   },
   "outputs": [],
   "source": [
    "with open('nvdcve-1.0-2017.json') as data_source:\n",
    "    data = json.load(data_source)\n",
    "\n",
    "cve_items = data[\"CVE_Items\"]"
   ]
  },
  {
   "cell_type": "code",
   "execution_count": null,
   "metadata": {
    "collapsed": false
   },
   "outputs": [],
   "source": [
    "impacts_mobile = [\n",
    "    {'part': 'o', 'product': 'android'},\n",
    "    {'part': 'o', 'product': 'iphone_os'},\n",
    "    {'target_sw': 'android'},\n",
    "]\n",
    "\n",
    "bins = {\n",
    "    'mobile': [],\n",
    "    'generic': [],\n",
    "    'IoT': []\n",
    "}"
   ]
  },
  {
   "cell_type": "code",
   "execution_count": 192,
   "metadata": {
    "code_folding": [],
    "collapsed": false
   },
   "outputs": [
    {
     "data": {
      "text/plain": [
       "59455"
      ]
     },
     "execution_count": 192,
     "metadata": {},
     "output_type": "execute_result"
    }
   ],
   "source": [
    "class Stack:\n",
    "    def __init__(s, cid, uri):        \n",
    "        path = uri.split(':')\n",
    "        s.hw = []\n",
    "        s.os = []\n",
    "        s.app = []\n",
    "        s.cid = cid\n",
    "        data = {\n",
    "            'vendor': path[3],\n",
    "            'product': path[4],\n",
    "            'version': path[5],\n",
    "            'update': path[6],\n",
    "            'edition': path[7],\n",
    "            'language': path[8],\n",
    "            'sw_edition': path[9],\n",
    "            'target_sw': path[10],\n",
    "            'target_hw': path[11]\n",
    "        }\n",
    "        part = path[2]\n",
    "        if part == 'h':\n",
    "            s.hw.append(data)\n",
    "        elif part == 'o':\n",
    "            s.os.append(data)\n",
    "        elif part == 'a':\n",
    "            s.app.append(data)\n",
    "\n",
    "\n",
    "def stacks(nodes, cid):\n",
    "    \"\"\"Returns the set of stacks implied by the node specification\"\"\"\n",
    "    result = []\n",
    "    for n in nodes:\n",
    "        result.append(stacks_(n, cid))\n",
    "    return result\n",
    "        \n",
    "\n",
    "def stacks_(node, cid):\n",
    "    if node['operator'] == 'AND':\n",
    "        return stacks_and(node, cid)\n",
    "    elif node['operator'] == 'OR':\n",
    "        return stacks_or(node, cid)\n",
    "    else:\n",
    "        raise 'unknown operator %s'%node['operator']\n",
    "        \n",
    "def stacks_or(node, cid):\n",
    "    result = []\n",
    "    for c in node['cpe']:\n",
    "        result.append(Stack(cid, c['cpe23Uri']))\n",
    "    return result\n",
    "\n",
    "\n",
    "def stacks_and(node, cid):\n",
    "    kids = stacks(node['children'], cid)\n",
    "    return merge_multistacks(kids)\n",
    "\n",
    "def merge_multistacks(multistacks):\n",
    "    return reduce(merge_stacks, multistacks)\n",
    "\n",
    "def merge_stacks(xx, yy):\n",
    "    zz = []\n",
    "    for x in xx:\n",
    "        for y in yy:\n",
    "            zz.append(merge_stack(x, y))\n",
    "    return zz\n",
    "            \n",
    "def merge_stack(x, y):\n",
    "    z = deepcopy(x)\n",
    "    if y.hw != []:\n",
    "        z.hw.append(y.hw)\n",
    "    if y.os != []:\n",
    "        z.os.append(y.os)\n",
    "    if y.app != []:\n",
    "        z.app.append(y.app)\n",
    "    return z\n",
    "    \n",
    "    \n",
    "the_stacks = []\n",
    "\n",
    "for item in cve_items:\n",
    "    # skip entries that do not have a v3 base metric and are not network attacks\n",
    "    if \"baseMetricV3\" not in item[\"impact\"]:\n",
    "        continue\n",
    "    vector = item[\"impact\"][\"baseMetricV3\"][\"cvssV3\"][\"attackVector\"]\n",
    "    if vector != \"NETWORK\" and vector != \"ADJACENT\":\n",
    "        continue\n",
    "    \n",
    "    the_stacks += stacks(item['configurations']['nodes'], item['cve']['CVE_data_meta']['ID'])\n",
    "    \n",
    "flatstacks = [item for sublist in the_stacks for item in sublist]\n",
    "len(flatstacks)"
   ]
  },
  {
   "cell_type": "code",
   "execution_count": 193,
   "metadata": {
    "collapsed": false,
    "scrolled": true
   },
   "outputs": [
    {
     "data": {
      "text/plain": [
       "3311"
      ]
     },
     "execution_count": 193,
     "metadata": {},
     "output_type": "execute_result"
    }
   ],
   "source": [
    "os_app = list(filter(lambda x: x.os != [] and x.app != [], flatstacks))\n",
    "os_app_len = len(os_app)\n",
    "os_app_list = list(map(lambda x: x.__dict__, os_app))\n",
    "os_app_len"
   ]
  },
  {
   "cell_type": "code",
   "execution_count": 187,
   "metadata": {
    "code_folding": [
     0
    ],
    "collapsed": false
   },
   "outputs": [],
   "source": [
    "def stackfilter(f):\n",
    "    def __sf(stack):\n",
    "        for x in stack.os:\n",
    "            print(x)\n",
    "            for k,v in f['os'].items():\n",
    "                if x[k] in v:\n",
    "                    return True\n",
    "        for x in stack.hw:\n",
    "            for k,v in f['hw'].items():\n",
    "                if x[k] in v:\n",
    "                    return True\n",
    "        for x in stack.app:\n",
    "            for k,v in f['app'].items():\n",
    "                if x[k] in v:\n",
    "                    return True\n",
    "        return False\n",
    "    return __sf"
   ]
  },
  {
   "cell_type": "code",
   "execution_count": 188,
   "metadata": {
    "code_folding": [
     0
    ],
    "collapsed": true
   },
   "outputs": [],
   "source": [
    "mobile_filter = {\n",
    "    'os': {\n",
    "        'product': ['andriod', 'iphone_os', 'linux_kernel', 'windows_rt_8.1', 'samsung_mobile']\n",
    "    },\n",
    "    'app': {\n",
    "        'target_sw': ['andriod', 'iphone_os', 'linux_kernel', 'windows_rt_8.1', 'samsung_mobile']\n",
    "    },\n",
    "    'hw': {\n",
    "        \n",
    "    }\n",
    "}    "
   ]
  },
  {
   "cell_type": "code",
   "execution_count": 213,
   "metadata": {
    "collapsed": false
   },
   "outputs": [
    {
     "data": {
      "text/plain": [
       "[{2: 'o', 4: 'android'},\n",
       " {2: 'o', 4: 'iphone_os'},\n",
       " {2: 'o', 4: 'linux_kernel'},\n",
       " {2: 'o', 4: 'windows_rt_8.1'},\n",
       " {2: 'o', 4: 'samsung_mobile'},\n",
       " {2: 'a', 10: 'android'},\n",
       " {2: 'a', 10: 'iphone_os'},\n",
       " {2: 'a', 10: 'linux_kernel'},\n",
       " {2: 'a', 10: 'windows_rt_8.1'},\n",
       " {2: 'a', 10: 'samsung_mobile'}]"
      ]
     },
     "execution_count": 213,
     "metadata": {},
     "output_type": "execute_result"
    }
   ],
   "source": [
    "Type = 2\n",
    "Product = 4\n",
    "TargetSw = 10\n",
    "mobile_indicators = [\n",
    "    {Type: 'o', Product: 'android'},\n",
    "    {Type: 'o', Product: 'iphone_os'},\n",
    "    {Type: 'o', Product: 'linux_kernel'},\n",
    "    {Type: 'o', Product: 'windows_rt_8.1'},\n",
    "    {Type: 'o', Product: 'samsung_mobile'},\n",
    "    {Type: 'a', TargetSw: 'android'},\n",
    "    {Type: 'a', TargetSw: 'iphone_os'},\n",
    "    {Type: 'a', TargetSw: 'linux_kernel'},\n",
    "    {Type: 'a', TargetSw: 'windows_rt_8.1'},\n",
    "    {Type: 'a', TargetSw: 'samsung_mobile'}\n",
    "]\n",
    "mobile_indicators"
   ]
  },
  {
   "cell_type": "code",
   "execution_count": 215,
   "metadata": {
    "collapsed": false
   },
   "outputs": [
    {
     "data": {
      "text/plain": [
       "445"
      ]
     },
     "execution_count": 215,
     "metadata": {},
     "output_type": "execute_result"
    }
   ],
   "source": [
    "mobile = []\n",
    "\n",
    "for item in cve_items:\n",
    "    # skip entries that do not have a v3 base metric and are not network attacks\n",
    "    if \"baseMetricV3\" not in item[\"impact\"]:\n",
    "        continue\n",
    "    vector = item[\"impact\"][\"baseMetricV3\"][\"cvssV3\"][\"attackVector\"]\n",
    "    if vector != \"NETWORK\" and vector != \"ADJACENT\":\n",
    "        continue\n",
    "        \n",
    "    for n in item['configurations']['nodes']:\n",
    "        if ind_match(mobile_indicators, n):\n",
    "            mobile.append(item['cve']['CVE_data_meta']['ID'])\n",
    "            break\n",
    "\n",
    "len(mobile)"
   ]
  },
  {
   "cell_type": "code",
   "execution_count": 209,
   "metadata": {
    "collapsed": false
   },
   "outputs": [],
   "source": [
    "def ind_match(ind, node):\n",
    "    if node['operator'] == 'AND':\n",
    "        for c in node['children']:\n",
    "            if ind_match(ind, c):\n",
    "                return True\n",
    "    elif node['operator'] == 'OR':\n",
    "        return cpes_match(ind, node['cpe'])\n",
    "\n",
    "def cpes_match(ind, cpes):\n",
    "    for c in cpes:\n",
    "        if cpe_match(ind, c):\n",
    "            return True\n",
    "    return False\n",
    "\n",
    "def cpe_match(ind, cpe):\n",
    "    for x in ind:\n",
    "        match = True\n",
    "        cs = cpe['cpe23Uri'].split(':')\n",
    "        for k,v in x.items():\n",
    "            match = match & (v == cs[k])\n",
    "        if match:\n",
    "            return True\n",
    "    return False"
   ]
  },
  {
   "cell_type": "code",
   "execution_count": 181,
   "metadata": {
    "collapsed": false
   },
   "outputs": [
    {
     "name": "stdout",
     "output_type": "stream",
     "text": [
      "{'version': '-', 'sw_edition': '*', 'product': 'windows_7', 'target_hw': '*', 'update': 'sp1', 'language': '*', 'target_sw': '*', 'vendor': 'microsoft', 'edition': '*'}\n",
      "{'version': '-', 'sw_edition': '*', 'product': 'windows_server_2008', 'target_hw': '*', 'update': 'sp2', 'language': '*', 'target_sw': '*', 'vendor': 'microsoft', 'edition': '*'}\n",
      "{'version': 'r2', 'sw_edition': '*', 'product': 'windows_server_2008', 'target_hw': '*', 'update': 'sp1', 'language': '*', 'target_sw': '*', 'vendor': 'microsoft', 'edition': '*'}\n",
      "{'version': '-', 'sw_edition': '*', 'product': 'windows_vista', 'target_hw': '*', 'update': 'sp2', 'language': '*', 'target_sw': '*', 'vendor': 'microsoft', 'edition': '*'}\n",
      "[{'version': '*', 'sw_edition': '*', 'product': 'windows_10', 'target_hw': '*', 'update': '*', 'language': '*', 'target_sw': '*', 'vendor': 'microsoft', 'edition': '*'}]\n"
     ]
    },
    {
     "ename": "TypeError",
     "evalue": "list indices must be integers or slices, not str",
     "output_type": "error",
     "traceback": [
      "\u001b[0;31m---------------------------------------------------------------------------\u001b[0m",
      "\u001b[0;31mTypeError\u001b[0m                                 Traceback (most recent call last)",
      "\u001b[0;32m<ipython-input-181-869d31551edd>\u001b[0m in \u001b[0;36m<module>\u001b[0;34m()\u001b[0m\n\u001b[0;32m----> 1\u001b[0;31m \u001b[0mmobile_stacks\u001b[0m \u001b[0;34m=\u001b[0m \u001b[0mlist\u001b[0m\u001b[0;34m(\u001b[0m\u001b[0mfilter\u001b[0m\u001b[0;34m(\u001b[0m\u001b[0mstackfilter\u001b[0m\u001b[0;34m(\u001b[0m\u001b[0mmobile_filter\u001b[0m\u001b[0;34m)\u001b[0m\u001b[0;34m,\u001b[0m \u001b[0mflatstacks\u001b[0m\u001b[0;34m)\u001b[0m\u001b[0;34m)\u001b[0m\u001b[0;34m\u001b[0m\u001b[0m\n\u001b[0m\u001b[1;32m      2\u001b[0m \u001b[0mlen\u001b[0m\u001b[0;34m(\u001b[0m\u001b[0mmobile_stacks\u001b[0m\u001b[0;34m)\u001b[0m\u001b[0;34m\u001b[0m\u001b[0m\n",
      "\u001b[0;32m<ipython-input-179-2a05d98d422e>\u001b[0m in \u001b[0;36m__sf\u001b[0;34m(stack)\u001b[0m\n\u001b[1;32m      4\u001b[0m             \u001b[0mprint\u001b[0m\u001b[0;34m(\u001b[0m\u001b[0mx\u001b[0m\u001b[0;34m)\u001b[0m\u001b[0;34m\u001b[0m\u001b[0m\n\u001b[1;32m      5\u001b[0m             \u001b[0;32mfor\u001b[0m \u001b[0mk\u001b[0m\u001b[0;34m,\u001b[0m\u001b[0mv\u001b[0m \u001b[0;32min\u001b[0m \u001b[0mf\u001b[0m\u001b[0;34m[\u001b[0m\u001b[0;34m'os'\u001b[0m\u001b[0;34m]\u001b[0m\u001b[0;34m.\u001b[0m\u001b[0mitems\u001b[0m\u001b[0;34m(\u001b[0m\u001b[0;34m)\u001b[0m\u001b[0;34m:\u001b[0m\u001b[0;34m\u001b[0m\u001b[0m\n\u001b[0;32m----> 6\u001b[0;31m                 \u001b[0;32mif\u001b[0m \u001b[0mx\u001b[0m\u001b[0;34m[\u001b[0m\u001b[0mk\u001b[0m\u001b[0;34m]\u001b[0m \u001b[0;32min\u001b[0m \u001b[0mv\u001b[0m\u001b[0;34m:\u001b[0m\u001b[0;34m\u001b[0m\u001b[0m\n\u001b[0m\u001b[1;32m      7\u001b[0m                     \u001b[0;32mreturn\u001b[0m \u001b[0;32mTrue\u001b[0m\u001b[0;34m\u001b[0m\u001b[0m\n\u001b[1;32m      8\u001b[0m         \u001b[0;32mfor\u001b[0m \u001b[0mx\u001b[0m \u001b[0;32min\u001b[0m \u001b[0mstack\u001b[0m\u001b[0;34m.\u001b[0m\u001b[0mhw\u001b[0m\u001b[0;34m:\u001b[0m\u001b[0;34m\u001b[0m\u001b[0m\n",
      "\u001b[0;31mTypeError\u001b[0m: list indices must be integers or slices, not str"
     ]
    }
   ],
   "source": [
    "mobile_stacks = list(filter(stackfilter(mobile_filter), flatstacks))\n",
    "len(mobile_stacks)"
   ]
  },
  {
   "cell_type": "code",
   "execution_count": 194,
   "metadata": {
    "collapsed": false
   },
   "outputs": [
    {
     "data": {
      "text/plain": [
       "{'app': [{'edition': '*',\n",
       "   'language': '*',\n",
       "   'product': 'edge',\n",
       "   'sw_edition': '*',\n",
       "   'target_hw': '*',\n",
       "   'target_sw': '*',\n",
       "   'update': '*',\n",
       "   'vendor': 'microsoft',\n",
       "   'version': '-'}],\n",
       " 'cid': 'CVE-2017-0137',\n",
       " 'hw': [],\n",
       " 'os': [[{'edition': '*',\n",
       "    'language': '*',\n",
       "    'product': 'windows_10',\n",
       "    'sw_edition': '*',\n",
       "    'target_hw': '*',\n",
       "    'target_sw': '*',\n",
       "    'update': '*',\n",
       "    'vendor': 'microsoft',\n",
       "    'version': '1511'}]]}"
      ]
     },
     "execution_count": 194,
     "metadata": {},
     "output_type": "execute_result"
    }
   ],
   "source": [
    "os_app_list[47]"
   ]
  },
  {
   "cell_type": "code",
   "execution_count": 115,
   "metadata": {
    "code_folding": [
     0,
     8,
     12
    ],
    "collapsed": false
   },
   "outputs": [],
   "source": [
    "bins = {\n",
    "    'hardware': [],\n",
    "    'os': [],\n",
    "    'application': []\n",
    "}\n",
    "\n",
    "\n",
    "\n",
    "def parseNode(n):\n",
    "    results = []\n",
    "    \n",
    "\n",
    "for item in cve_items:\n",
    "    # skip entries that do not have a v3 base metric and are not network attacks\n",
    "    if \"baseMetricV3\" not in item[\"impact\"]:\n",
    "        continue\n",
    "    vector = item[\"impact\"][\"baseMetricV3\"][\"cvssV3\"][\"attackVector\"]\n",
    "    if vector != \"NETWORK\" and vector != \"ADJACENT\":\n",
    "        continue\n",
    "        \n",
    "    desc = item[\"cve\"][\"description\"][\"description_data\"][0][\"value\"]\n",
    "    cfg = item[\"configurations\"][\"nodes\"]\n",
    "        \n",
    "    #TODO you really have just about everything you need here\n",
    "    for node in item['configurations']['nodes']:\n",
    "        if node['operator'] == 'OR':\n",
    "            for cpe in node['cpe']:\n",
    "                path = cpe['cpe23Uri'].split(':')\n",
    "                vendor = path[3]\n",
    "                product = path[4]\n",
    "                target_sw = path[10]\n",
    "                target_hw = path[11]\n",
    "        if node['operator'] == 'AND':\n",
    "            for subnode in node['children']:\n",
    "                \n",
    "        \n",
    "        \n",
    "    if 'cpe' in item[\"configurations\"][\"nodes\"][0]:\n",
    "        for cpe in item[\"configurations\"][\"nodes\"][0][\"cpe\"]:\n",
    "            path = cpe[\"cpe23Uri\"].split(\":\")\n",
    "\n",
    "            data = {\n",
    "                    'vendor': path[3],\n",
    "                    'product': path[4],\n",
    "                    'description': desc\n",
    "                }\n",
    "\n",
    "            if path[2] == 'h':\n",
    "                bins['hardware'].append(data)\n",
    "            elif path[2] == 'o':\n",
    "                bins['os'].append(data)\n",
    "            elif path[2] == 'a':\n",
    "                bins['application'].append(data)\n",
    "    "
   ]
  },
  {
   "cell_type": "code",
   "execution_count": 116,
   "metadata": {
    "collapsed": false
   },
   "outputs": [
    {
     "data": {
      "text/plain": [
       "(73, 15451, 26290)"
      ]
     },
     "execution_count": 116,
     "metadata": {},
     "output_type": "execute_result"
    }
   ],
   "source": [
    "len(bins['hardware']), len(bins['os']), len(bins['application'])"
   ]
  },
  {
   "cell_type": "code",
   "execution_count": 166,
   "metadata": {
    "code_folding": [
     4
    ],
    "collapsed": false,
    "scrolled": true
   },
   "outputs": [
    {
     "name": "stdout",
     "output_type": "stream",
     "text": [
      "apple apple_tv\n",
      "apple iphone_os\n",
      "apple mac_os_server\n",
      "apple mac_os_x\n",
      "apple safari\n",
      "apple watchos\n",
      "backbox backbox_linux\n",
      "canonical ubuntu_linux\n",
      "ceragon fiberair_ip-10_firmware\n",
      "cesanta mongoose_os\n",
      "cisco asyncos\n",
      "cisco email_security_appliance_firmware\n",
      "cisco ios\n",
      "cisco ios_xe\n",
      "cisco ios_xr\n",
      "cisco iox\n",
      "cisco staros\n",
      "cisco unified_intelligence_center\n",
      "cisco web_security_appliance\n",
      "citrix application_delivery_controller_firmware\n",
      "citrix netscaler_gateway_firmware\n",
      "citrix xenmobile_server\n",
      "contiki-os contiki\n",
      "debian debian_linux\n",
      "emc isilon_onefs\n",
      "fedoraproject fedora\n",
      "fortinet fortianalyzer_firmware\n",
      "fortinet fortios\n",
      "fortinet fortiwlc-sd\n",
      "freebsd freebsd\n",
      "google android\n",
      "ibm i\n",
      "intel active_management_technology_firmware\n",
      "juniper junos\n",
      "juniper junos_space\n",
      "juniper screenos\n",
      "linux linux_kernel\n",
      "microsoft windows_10\n",
      "microsoft windows_7\n",
      "microsoft windows_8\n",
      "microsoft windows_8.1\n",
      "microsoft windows_rt_8.1\n",
      "microsoft windows_server_2003\n",
      "microsoft windows_server_2008\n",
      "microsoft windows_server_2012\n",
      "microsoft windows_server_2016\n",
      "microsoft windows_vista\n",
      "microsoft windows_xp\n",
      "mikrotik routeros\n",
      "mimosa backhaul_radios\n",
      "mimosa client_radios\n",
      "netapp data_ontap\n",
      "netbsd netbsd\n",
      "nixos_project nixos\n",
      "novell leap\n",
      "onosproject onos\n",
      "openbsd openbsd\n",
      "openelec openelec\n",
      "opensuse_project leap\n",
      "oracle solaris\n",
      "paloaltonetworks pan-os\n",
      "qnap qts\n",
      "redhat enterprise_linux\n",
      "redhat enterprise_linux_desktop\n",
      "redhat enterprise_linux_server\n",
      "redhat enterprise_linux_workstation\n",
      "samsung samsung_mobile\n",
      "siemens ruggedcom_rox_i\n",
      "terra-master tos\n",
      "watchguard fireware\n",
      "xen xen\n",
      "zyxel wre6505_firmware\n"
     ]
    }
   ],
   "source": [
    "s = set()\n",
    "for x in sorted(bins['os'], key=lambda x: (x['vendor'], x['product'])):\n",
    "    s.add('%s %s'%(x['vendor'], x['product']))\n",
    "    \n",
    "for x in sorted(s):\n",
    "    print(x)"
   ]
  },
  {
   "cell_type": "code",
   "execution_count": 113,
   "metadata": {
    "code_folding": [
     0,
     5,
     11
    ],
    "collapsed": false
   },
   "outputs": [],
   "source": [
    "pc_software = [\n",
    "    ('adobe', '.*'),\n",
    "    ('13thmonkey', 'udfclient')\n",
    "]\n",
    "\n",
    "server_hardware = [\n",
    "    ('21st_centry_insurance')\n",
    "]\n",
    "\n",
    "pc_software_rx = list(map(lambda x: (re.compile(x[0]), re.compile(x[1])), pc_software))\n",
    "\n",
    "def swEffectsPC(x):\n",
    "    unmatched = 0\n",
    "    for y in pc_software_rx:\n",
    "        if y[0].match(x['vendor']) is not None and y[1].match(x['product']) is not None:\n",
    "            return True\n",
    "    #print(\"WARN: %s:%s did not match\"%(x['vendor'], x['product']))\n",
    "    return False"
   ]
  },
  {
   "cell_type": "code",
   "execution_count": 114,
   "metadata": {
    "code_folding": [
     0
    ],
    "collapsed": false
   },
   "outputs": [
    {
     "data": {
      "text/plain": [
       "1496"
      ]
     },
     "execution_count": 114,
     "metadata": {},
     "output_type": "execute_result"
    }
   ],
   "source": [
    "(\n",
    "    sum(1 for x in bins['hardware'] if hwEffectsPC(x)) +\n",
    "    sum(1 for x in bins['os'] if osEffectsPC(x)) + \n",
    "    sum(1 for x in bins['application'] if swEffectsPC(x))\n",
    ")"
   ]
  },
  {
   "cell_type": "code",
   "execution_count": 84,
   "metadata": {
    "code_folding": [
     0,
     11,
     25,
     26,
     90,
     91
    ],
    "collapsed": false
   },
   "outputs": [],
   "source": [
    "cats = {\n",
    "    'mobile': [],\n",
    "    'pc': [],\n",
    "    'server': [],\n",
    "    'network': [],\n",
    "    'iot': []\n",
    "}\n",
    "\n",
    "def hwEffectsMobile(x):\n",
    "    return False\n",
    "\n",
    "def osEffectsMobile(x):\n",
    "    return (\n",
    "        (x['vendor'] == 'google' and x['product'] == 'android') or\n",
    "        (x['vendor'] == 'apple' and x['product'] == 'iphone_os') or\n",
    "        (x['vendor'] == 'linux' and x['product'] == 'linux_kernel') or\n",
    "        (x['vendor'] == 'microsoft' and x['product'].startswith('windows_rt')) or\n",
    "        (x['vendor'] == 'samsung' and x['product'] == 'samsung_mobile')\n",
    "    )\n",
    "\n",
    "#TODO\n",
    "def hwEffectsPC(x):\n",
    "    return False\n",
    "\n",
    "#TODO finish\n",
    "def osEffectsPC(x):\n",
    "    return (\n",
    "        (x['vendor'] == 'apple' and x['product'] == 'mac_os_x') or\n",
    "        (x['vendor'] == 'apple' and x['product'] == 'safari') or\n",
    "        (x['vendor'] == 'linux' and x['product'] == 'linux_kernel') or\n",
    "        (x['vendor'] == 'redhat' and x['product'] == 'enterprise_linux_desktop') or\n",
    "        (x['vendor'] == 'redhat' and x['product'] == 'enterprise_linux_workstation') or\n",
    "        (x['vendor'] == 'backbox' and x['product'] == 'backbox_linux') or\n",
    "        (x['vendor'] == 'debian' and x['product'] == 'debian_linux') or\n",
    "        (x['vendor'] == 'fedoraproject' and x['product'] == 'fedora') or\n",
    "        (x['vendor'] == 'canonical' and x['product'] == 'ubuntu_linux') or\n",
    "        (x['vendor'] == 'microsoft' and x['product'] == 'windows_10') or\n",
    "        (x['vendor'] == 'microsoft' and x['product'] == 'windows_8.1') or\n",
    "        (x['vendor'] == 'microsoft' and x['product'] == 'windows_8') or\n",
    "        (x['vendor'] == 'microsoft' and x['product'] == 'windows_7') or\n",
    "        (x['vendor'] == 'microsoft' and x['product'] == 'windows_vista') or\n",
    "        (x['vendor'] == 'microsoft' and x['product'] == 'windows_xp') or\n",
    "        (x['vendor'] == 'intel' and x['product'] == 'active_management_technology_firmware')\n",
    "    )\n",
    "\n",
    "#TODO\n",
    "def hwEffectsServer(x):\n",
    "    return False\n",
    "\n",
    "def osEffectsServer(x):\n",
    "    return(\n",
    "        (x['vendor'] == 'apple' and x['product'] == 'mac_os_server') or\n",
    "        (x['vendor'] == 'canonical' and x['product'] == 'ubuntu_linux') or\n",
    "        (x['vendor'] == 'cisco' and x['product'] == 'asyncos') or\n",
    "        (x['vendor'] == 'cisco' and x['product'] == 'email_security_appliance_firmware') or\n",
    "        (x['vendor'] == 'cisco' and x['product'] == 'unified_intelligence_center') or\n",
    "        (x['vendor'] == 'cisco' and x['product'] == 'web_security_appliance') or\n",
    "        (x['vendor'] == 'citrix' and x['product'] == 'application_delivery_controller_firmware') or\n",
    "        (x['vendor'] == 'citrix' and x['product'] == 'netscaler_gateway_firmware') or\n",
    "        (x['vendor'] == 'citrix' and x['product'] == 'xenmobile_server') or\n",
    "        (x['vendor'] == 'debian' and x['product'] == 'debian_linux') or\n",
    "        (x['vendor'] == 'emc' and x['product'] == 'isilon_onefs') or\n",
    "        (x['vendor'] == 'fedoraproject' and x['product'] == 'fedora') or\n",
    "        (x['vendor'] == 'fortinet' and x['product'] == 'fortianalyzer_firmware') or\n",
    "        (x['vendor'] == 'fortinet' and x['product'] == 'fortios') or\n",
    "        (x['vendor'] == 'fortinet' and x['product'] == 'fortiwlc-sd') or\n",
    "        (x['vendor'] == 'freebsd' and x['product'] == 'freebsd') or\n",
    "        (x['vendor'] == 'ibm' and x['product'] == 'i') or\n",
    "        (x['vendor'] == 'juniper' and x['product'] == 'junos_space') or\n",
    "        (x['vendor'] == 'linux' and x['product'] == 'linux_kernel') or\n",
    "        (x['vendor'] == 'microsoft' and x['product'] == 'windows_server_2003') or\n",
    "        (x['vendor'] == 'microsoft' and x['product'] == 'windows_server_2008') or\n",
    "        (x['vendor'] == 'microsoft' and x['product'] == 'windows_server_2012') or\n",
    "        (x['vendor'] == 'microsoft' and x['product'] == 'windows_server_2016') or\n",
    "        (x['vendor'] == 'netapp' and x['product'] == 'data_ontap') or\n",
    "        (x['vendor'] == 'netbsd' and x['product'] == 'netbsd') or\n",
    "        (x['vendor'] == 'nixos_project' and x['product'] == 'nixos') or\n",
    "        (x['vendor'] == 'novell' and x['product'] == 'leap') or\n",
    "        (x['vendor'] == 'openbsd' and x['product'] == 'openbsd') or\n",
    "        (x['vendor'] == 'opensuse_project' and x['product'] == 'leap') or\n",
    "        (x['vendor'] == 'oracle' and x['product'] == 'solaris') or\n",
    "        (x['vendor'] == 'qnap' and x['product'] == 'qts') or\n",
    "        (x['vendor'] == 'redhat' and x['product'] == 'enterprise_linux') or\n",
    "        (x['vendor'] == 'redhat' and x['product'] == 'enterprise_linux_server') or\n",
    "        (x['vendor'] == 'xen' and x['product'] == 'xen')\n",
    "    )\n",
    "\n",
    "def hwEffectsNetwork(x):\n",
    "    return False\n",
    "\n",
    "def osEffectsNetwork(x):\n",
    "    return (\n",
    "        (x['vendor'] == 'ceragon' and x['product'] == 'fiberair_ip-10_firmware') or\n",
    "        (x['vendor'] == 'cisco' and x['product'] == 'ios') or # dominated by this line\n",
    "        (x['vendor'] == 'cisco' and x['product'] == 'ios_xe') or\n",
    "        (x['vendor'] == 'cisco' and x['product'] == 'ios_xr') or\n",
    "        (x['vendor'] == 'cisco' and x['product'] == 'iox') or\n",
    "        (x['vendor'] == 'cisco' and x['product'] == 'staros') or\n",
    "        (x['vendor'] == 'juniper' and x['product'] == 'junos') or\n",
    "        (x['vendor'] == 'juniper' and x['product'] == 'screenos') or\n",
    "        (x['vendor'] == 'mikrotik' and x['product'] == 'routeros') or\n",
    "        (x['vendor'] == 'mimosa' and x['product'] == 'backhaul_radios') or\n",
    "        (x['vendor'] == 'mimosa' and x['product'] == 'client_radios') or\n",
    "        (x['vendor'] == 'onosproject' and x['product'] == 'onos') or\n",
    "        (x['vendor'] == 'paloaltonetworks' and x['product'] == 'pan-os') or\n",
    "        (x['vendor'] == 'watchguard' and x['product'] == 'fireware') or\n",
    "        (x['vendor'] == 'zyxel' and x['product'] == 'wre6505_firmware')\n",
    "    )\n",
    "\n",
    "#TODO\n",
    "def hwEffectsIoT(x):\n",
    "    return False\n",
    "\n",
    "def osEffectsIoT(x):\n",
    "    return (\n",
    "        (x['vendor'] == 'apple' and x['product'] == 'apple_tv') or\n",
    "        (x['vendor'] == 'apple' and x['product'] == 'watchos') or\n",
    "        (x['vendor'] == 'contiki-os' and x['product'] == 'contiki') or\n",
    "        (x['vendor'] == 'openelec' and x['product'] == 'openelec') or\n",
    "        (x['vendor'] == 'siemens' and x['product'] == 'ruggedcom_rox_i') or\n",
    "        (x['vendor'] == 'terra-master' and x['product'] == 'tos') or\n",
    "        (x['vendor'] == 'cesanta' and x['product'] == 'mongoose_os')\n",
    "    )"
   ]
  },
  {
   "cell_type": "code",
   "execution_count": 87,
   "metadata": {
    "collapsed": false
   },
   "outputs": [
    {
     "data": {
      "text/plain": [
       "35"
      ]
     },
     "execution_count": 87,
     "metadata": {},
     "output_type": "execute_result"
    }
   ],
   "source": [
    "(\n",
    "    sum(1 for x in bins['hardware'] if hwEffectsIoT(x)) +\n",
    "    sum(1 for x in bins['os'] if osEffectsIoT(x))\n",
    ")"
   ]
  },
  {
   "cell_type": "code",
   "execution_count": 88,
   "metadata": {
    "collapsed": false
   },
   "outputs": [
    {
     "data": {
      "text/plain": [
       "12904"
      ]
     },
     "execution_count": 88,
     "metadata": {},
     "output_type": "execute_result"
    }
   ],
   "source": [
    "(\n",
    "    sum(1 for x in bins['hardware'] if hwEffectsNetwork(x)) +\n",
    "    sum(1 for x in bins['os'] if osEffectsNetwork(x))\n",
    ")"
   ]
  },
  {
   "cell_type": "code",
   "execution_count": 89,
   "metadata": {
    "collapsed": false
   },
   "outputs": [
    {
     "data": {
      "text/plain": [
       "1626"
      ]
     },
     "execution_count": 89,
     "metadata": {},
     "output_type": "execute_result"
    }
   ],
   "source": [
    "(\n",
    "    sum(1 for x in bins['hardware'] if hwEffectsServer(x)) +\n",
    "    sum(1 for x in bins['os'] if osEffectsServer(x))\n",
    ")"
   ]
  },
  {
   "cell_type": "code",
   "execution_count": 91,
   "metadata": {
    "collapsed": false
   },
   "outputs": [
    {
     "data": {
      "text/plain": [
       "1333"
      ]
     },
     "execution_count": 91,
     "metadata": {},
     "output_type": "execute_result"
    }
   ],
   "source": [
    "(\n",
    "    sum(1 for x in bins['hardware'] if hwEffectsMobile(x)) +\n",
    "    sum(1 for x in bins['os'] if osEffectsMobile(x))\n",
    ")"
   ]
  },
  {
   "cell_type": "code",
   "execution_count": null,
   "metadata": {
    "code_folding": [
     14,
     19,
     23
    ],
    "collapsed": false
   },
   "outputs": [],
   "source": [
    "cats = {\n",
    "    'generic': [],\n",
    "    'pc': [],\n",
    "    'server': [],\n",
    "    'mobile': [],\n",
    "    'iot': []\n",
    "}\n",
    "\n",
    "device = {\n",
    "    'arch': '',\n",
    "    'components': []\n",
    "}\n",
    "\n",
    "firmware = {\n",
    "    'component': ''\n",
    "}\n",
    "\n",
    "os = {\n",
    "    'arch': []\n",
    "}\n",
    "\n",
    "software = {\n",
    "    'os': [],\n",
    "    'language': ''\n",
    "}"
   ]
  }
 ],
 "metadata": {
  "kernelspec": {
   "display_name": "Python 3",
   "language": "python",
   "name": "python3"
  },
  "language_info": {
   "codemirror_mode": {
    "name": "ipython",
    "version": 3
   },
   "file_extension": ".py",
   "mimetype": "text/x-python",
   "name": "python",
   "nbconvert_exporter": "python",
   "pygments_lexer": "ipython3",
   "version": "3.5.3"
  }
 },
 "nbformat": 4,
 "nbformat_minor": 1
}
